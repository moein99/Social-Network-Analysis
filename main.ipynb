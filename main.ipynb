{
 "cells": [
  {
   "cell_type": "code",
   "execution_count": 1,
   "id": "7330dfe1",
   "metadata": {},
   "outputs": [
    {
     "name": "stdout",
     "output_type": "stream",
     "text": [
      "Graph with 5153 nodes and 133784 edges\n",
      "Average degree: 51.92470405588977\n",
      "Average influence for top 10% is 0.8810111186054611\n",
      "Average influence for top 10-20% is 0.7888328248513535\n",
      "Average influence for top 20-30% is 0.6702065500701326\n",
      "Average followings influence on users rates is 0.8230390839772991\n"
     ]
    }
   ],
   "source": [
    "import networkx as nx\n",
    "\n",
    "from graph import Graph\n",
    "from models import clean_data\n",
    "\n",
    "\n",
    "# clean_data()\n",
    "graph = Graph()\n",
    "# graph.create_graph_from_inputs()\n",
    "graph.read_graph()\n",
    "# graph.export_graph_to_csv(graph.graph)\n",
    "new_graph = graph.get_limited_random_graph(num_of_nodes=1200, seed=1)\n",
    "graph.export_graph_to_csv(graph=new_graph, prefix=\"random_seed_5_nodes_1000_\")\n",
    "print(nx.info(graph.graph))\n",
    "\n",
    "# Question 1\n",
    "print(f\"Average degree: {sum(d for n, d in graph.graph.degree()) / graph.graph.number_of_nodes()}\")\n",
    "print(f\"Average influence for top 10% is {graph.get_average_influence_for_top_influential_users(0, 0.1)}\")\n",
    "print(f\"Average influence for top 10-20% is {graph.get_average_influence_for_top_influential_users(0.1, 0.2)}\")\n",
    "print(f\"Average influence for top 20-30% is {graph.get_average_influence_for_top_influential_users(0.2, 0.3)}\")\n",
    "\n",
    "\n",
    "# Question 2\n",
    "print(f\"Average followings influence on users rates is {graph.get_average_friends_influence_on_users_rate()}\")\n"
   ]
  },
  {
   "cell_type": "code",
   "execution_count": 2,
   "id": "503a5cde",
   "metadata": {},
   "outputs": [
    {
     "data": {
      "text/plain": [
       "5153"
      ]
     },
     "execution_count": 2,
     "metadata": {},
     "output_type": "execute_result"
    }
   ],
   "source": [
    "len(graph.graph.nodes)"
   ]
  },
  {
   "cell_type": "code",
   "execution_count": 19,
   "id": "620d1a3a",
   "metadata": {},
   "outputs": [],
   "source": [
    "# Question 3\n",
    "\n",
    "\n"
   ]
  },
  {
   "cell_type": "code",
   "execution_count": null,
   "id": "63f388b1",
   "metadata": {},
   "outputs": [],
   "source": []
  },
  {
   "cell_type": "code",
   "execution_count": null,
   "id": "43ea4e2e",
   "metadata": {},
   "outputs": [],
   "source": []
  },
  {
   "cell_type": "code",
   "execution_count": 18,
   "id": "8a433e51",
   "metadata": {},
   "outputs": [],
   "source": [
    "rndg = nx.gnm_random_graph(len(graph.graph.nodes),len(graph.graph.edges))"
   ]
  }
 ],
 "metadata": {
  "kernelspec": {
   "display_name": "Python 3",
   "language": "python",
   "name": "python3"
  },
  "language_info": {
   "codemirror_mode": {
    "name": "ipython",
    "version": 3
   },
   "file_extension": ".py",
   "mimetype": "text/x-python",
   "name": "python",
   "nbconvert_exporter": "python",
   "pygments_lexer": "ipython3",
   "version": "3.9.9"
  }
 },
 "nbformat": 4,
 "nbformat_minor": 5
}
